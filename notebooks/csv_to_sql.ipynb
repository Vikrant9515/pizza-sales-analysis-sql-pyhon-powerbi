{
 "cells": [
  {
   "cell_type": "code",
   "execution_count": 1,
   "id": "26d95b94",
   "metadata": {},
   "outputs": [
    {
     "name": "stdout",
     "output_type": "stream",
     "text": [
      "✅ Successfully loaded 48620 rows into `pizza_sales`.\n"
     ]
    }
   ],
   "source": [
    "import pandas as pd\n",
    "import mysql.connector\n",
    "from sqlalchemy import create_engine\n",
    "\n",
    "# 1. Set your MySQL connection details\n",
    "user = 'root'\n",
    "password = 'vikrant'\n",
    "host = 'localhost'\n",
    "database = 'pizzaDB'\n",
    "table_name = 'pizza_sales'\n",
    "\n",
    "# 2. Load the CSV into a pandas DataFrame\n",
    "csv_file = 'pizza_sales.csv'  # full path if needed\n",
    "df = pd.read_csv(csv_file)\n",
    "\n",
    "# 3. Connect using SQLAlchemy (for pandas to_sql)\n",
    "engine = create_engine(f'mysql+mysqlconnector://{user}:{password}@{host}/{database}', echo=False)\n",
    "\n",
    "# 4. Upload the DataFrame to MySQL\n",
    "df.to_sql(name=table_name, con=engine, if_exists='append', index=False)\n",
    "\n",
    "print(f\"✅ Successfully loaded {len(df)} rows into `{table_name}`.\")\n"
   ]
  }
 ],
 "metadata": {
  "kernelspec": {
   "display_name": "Python 3",
   "language": "python",
   "name": "python3"
  },
  "language_info": {
   "codemirror_mode": {
    "name": "ipython",
    "version": 3
   },
   "file_extension": ".py",
   "mimetype": "text/x-python",
   "name": "python",
   "nbconvert_exporter": "python",
   "pygments_lexer": "ipython3",
   "version": "3.13.5"
  }
 },
 "nbformat": 4,
 "nbformat_minor": 5
}
