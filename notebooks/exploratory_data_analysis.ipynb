{
 "cells": [
  {
   "cell_type": "code",
   "execution_count": 1,
   "id": "e33a6549",
   "metadata": {},
   "outputs": [],
   "source": [
    "#import necessary libraries\n",
    "import pandas as pd\n",
    "import matplotlib.pyplot as plt\n",
    "import seaborn as sns"
   ]
  },
  {
   "cell_type": "code",
   "execution_count": 2,
   "id": "cc5a6f3f",
   "metadata": {},
   "outputs": [
    {
     "name": "stdout",
     "output_type": "stream",
     "text": [
      "<class 'pandas.core.frame.DataFrame'>\n",
      "RangeIndex: 48620 entries, 0 to 48619\n",
      "Data columns (total 12 columns):\n",
      " #   Column             Non-Null Count  Dtype  \n",
      "---  ------             --------------  -----  \n",
      " 0   pizza_id           48620 non-null  int64  \n",
      " 1   order_id           48620 non-null  int64  \n",
      " 2   pizza_name_id      48620 non-null  object \n",
      " 3   quantity           48620 non-null  int64  \n",
      " 4   order_date         48620 non-null  object \n",
      " 5   order_time         48620 non-null  object \n",
      " 6   unit_price         48620 non-null  float64\n",
      " 7   total_price        48620 non-null  float64\n",
      " 8   pizza_size         48620 non-null  object \n",
      " 9   pizza_category     48620 non-null  object \n",
      " 10  pizza_ingredients  48620 non-null  object \n",
      " 11  pizza_name         48620 non-null  object \n",
      "dtypes: float64(2), int64(3), object(7)\n",
      "memory usage: 4.5+ MB\n"
     ]
    },
    {
     "data": {
      "text/plain": [
       "pizza_id             0\n",
       "order_id             0\n",
       "pizza_name_id        0\n",
       "quantity             0\n",
       "order_date           0\n",
       "order_time           0\n",
       "unit_price           0\n",
       "total_price          0\n",
       "pizza_size           0\n",
       "pizza_category       0\n",
       "pizza_ingredients    0\n",
       "pizza_name           0\n",
       "dtype: int64"
      ]
     },
     "execution_count": 2,
     "metadata": {},
     "output_type": "execute_result"
    }
   ],
   "source": [
    "# Visual our Dataset\n",
    "df = pd.read_csv('pizza_sales.csv')\n",
    "df.head(10)\n",
    "df.describe()\n",
    "df.shape\n",
    "df.info()\n",
    "df.isnull().sum()\n"
   ]
  },
  {
   "cell_type": "code",
   "execution_count": null,
   "id": "386d1381",
   "metadata": {},
   "outputs": [],
   "source": [
    "df.head(10)"
   ]
  },
  {
   "cell_type": "code",
   "execution_count": null,
   "id": "cb6ea8ed",
   "metadata": {},
   "outputs": [],
   "source": [
    "df[\"pizza_id\"].duplicated().sum()"
   ]
  },
  {
   "cell_type": "code",
   "execution_count": null,
   "id": "9f7d81fa",
   "metadata": {},
   "outputs": [],
   "source": [
    "# Total revenue\n",
    "total_revenue = df['total_price'].sum()\n",
    "print(f'Total Revenue: ${total_revenue:.0f}')"
   ]
  },
  {
   "cell_type": "code",
   "execution_count": null,
   "id": "2ced6c3b",
   "metadata": {},
   "outputs": [],
   "source": [
    "# Average order value\n",
    "average_order_value_per_order = df.groupby('order_id')['total_price'].sum().mean()\n",
    "print(f'Average Order Value (per distinct order): ${average_order_value_per_order:.0f}')"
   ]
  },
  {
   "cell_type": "code",
   "execution_count": null,
   "id": "e71453d6",
   "metadata": {},
   "outputs": [],
   "source": [
    "#Total pizzas sold\n",
    "total_pizzas_sold = df['quantity'].sum()\n",
    "print(f'Total Pizzas Sold: {total_pizzas_sold}')"
   ]
  },
  {
   "cell_type": "code",
   "execution_count": null,
   "id": "871aab6b",
   "metadata": {},
   "outputs": [],
   "source": [
    "#Total orders\n",
    "total_orders = df['order_id'].nunique()\n",
    "print(f'Total Orders: {total_orders}')"
   ]
  },
  {
   "cell_type": "code",
   "execution_count": null,
   "id": "3b744487",
   "metadata": {},
   "outputs": [],
   "source": [
    "#Average pizzas per order\n",
    "average_pizzas_per_order = df.groupby('order_id')['quantity'].sum().mean()\n",
    "print(f'Average Pizzas per Order: {average_pizzas_per_order:.2f}')"
   ]
  },
  {
   "cell_type": "code",
   "execution_count": null,
   "id": "c1d34a6d",
   "metadata": {},
   "outputs": [],
   "source": [
    "# Per day total sales by weekday (Sunday to Saturday)\n",
    "df['order_date'] = pd.to_datetime(df['order_date'])\n",
    "df['weekday'] = df['order_date'].dt.day_name()\n",
    "weekday_sales = df.groupby('weekday')['total_price'].sum().reindex(\n",
    "    ['Sunday', 'Monday', 'Tuesday', 'Wednesday', 'Thursday', 'Friday', 'Saturday']\n",
    ").reset_index()\n",
    "weekday_sales\n",
    "\n"
   ]
  },
  {
   "cell_type": "code",
   "execution_count": null,
   "id": "ccb73baa",
   "metadata": {},
   "outputs": [],
   "source": [
    "# Per day total order sales by weekday (Sunday to Saturday)\n",
    "df['order_date'] = pd.to_datetime(df['order_date'])\n",
    "df['weekday'] = df['order_date'].dt.day_name()\n",
    "weekday_order_sales = df.groupby('weekday')['order_id'].nunique().reindex(\n",
    "    ['Sunday', 'Monday', 'Tuesday', 'Wednesday', 'Thursday', 'Friday', 'Saturday']\n",
    ").reset_index().rename(columns={'order_id': 'total_orders'})\n",
    "weekday_order_sales"
   ]
  },
  {
   "cell_type": "code",
   "execution_count": null,
   "id": "08e927cc",
   "metadata": {},
   "outputs": [],
   "source": [
    "# Per day quqntity sales by weekday (Sunday to Saturday)\n",
    "df['order_date'] = pd.to_datetime(df['order_date'])\n",
    "df['weekday'] = df['order_date'].dt.day_name()\n",
    "weekday_sales = df.groupby('weekday')['quantity'].sum().reindex(\n",
    "    ['Sunday', 'Monday', 'Tuesday', 'Wednesday', 'Thursday', 'Friday', 'Saturday']\n",
    ").reset_index()\n",
    "weekday_sales\n"
   ]
  },
  {
   "cell_type": "code",
   "execution_count": null,
   "id": "289b3bb7",
   "metadata": {},
   "outputs": [],
   "source": [
    "# Per month total order sales by month name (January to December)\n",
    "monthly_order_sales_with_month_name = monthly_order_sales.copy()\n",
    "monthly_order_sales_with_month_name['month_name'] = monthly_order_sales_with_month_name['order_month'].dt.strftime('%B')\n",
    "monthly_order_sales_with_month_name = monthly_order_sales_with_month_name.sort_values('order_month')\n",
    "monthly_order_sales_with_month_name[['month_name', 'total_orders']]"
   ]
  },
  {
   "cell_type": "code",
   "execution_count": null,
   "id": "c6b6dc9c",
   "metadata": {},
   "outputs": [],
   "source": [
    "# Per day total order sales by month\n",
    "month_order_sales = df.groupby('order_month')['order_id'].nunique().reset_index().rename(columns={'order_id': 'total_orders'})\n",
    "month_order_sales"
   ]
  },
  {
   "cell_type": "code",
   "execution_count": null,
   "id": "eaf361ed",
   "metadata": {},
   "outputs": [],
   "source": [
    "#total sales by pizza size\n",
    "pizza_size_sales = df.groupby('pizza_size')['total_price'].sum().reset_index()\n",
    "pizza_size_sales = pizza_size_sales.sort_values(by='total_price', ascending=False)\n",
    "pizza_size_sales\n"
   ]
  },
  {
   "cell_type": "code",
   "execution_count": null,
   "id": "329fd512",
   "metadata": {},
   "outputs": [],
   "source": [
    "\n",
    "#plotting total sales by pizza size\n",
    "plt.figure(figsize=(10, 6))\n",
    "sns.barplot(x='total_price', y='pizza_size', data=pizza_size_sales, palette='viridis')\n",
    "plt.title('Total Sales by Pizza Size')\n",
    "plt.xlabel('Total Sales ($)')\n",
    "plt.ylabel('Pizza Size')\n",
    "plt.show()"
   ]
  },
  {
   "cell_type": "code",
   "execution_count": null,
   "id": "418b7cdf",
   "metadata": {},
   "outputs": [],
   "source": [
    "#total quqntity sales by pizza category\n",
    "pizza_category_sales=df.groupby('pizza_category')['quantity'].sum().reset_index()\n",
    "pizza_category_sales = pizza_category_sales.sort_values(by='quantity', ascending=False)\n",
    "pizza_category_sales"
   ]
  },
  {
   "cell_type": "code",
   "execution_count": null,
   "id": "91bc74b9",
   "metadata": {},
   "outputs": [],
   "source": [
    "#Plot total quqntity sales by pizza category\n",
    "plt.figure(figsize=( 8,4))\n",
    "sns.barplot(x='quantity', y='pizza_category', data=pizza_category_sales, palette='viridis')\n",
    "plt.title('Total quantity by Pizza Size')\n",
    "plt.xlabel('Total quantity')\n",
    "plt.ylabel('Pizza Size')\n",
    "plt.show()"
   ]
  },
  {
   "cell_type": "code",
   "execution_count": null,
   "id": "78f7da67",
   "metadata": {},
   "outputs": [],
   "source": [
    "#Top 5 most revenue generating pizzas\n",
    "most_revenue=df.groupby('pizza_name')['total_price'].sum().reset_index()\n",
    "most_revenue=most_revenue.sort_values(by='total_price',ascending=False).head(5)\n",
    "most_revenue\n"
   ]
  },
  {
   "cell_type": "code",
   "execution_count": null,
   "id": "425635d4",
   "metadata": {},
   "outputs": [],
   "source": [
    "#Plot Top 5 most revenue generating pizzas\n",
    "plt.figure(figsize=(10, 6))\n",
    "sns.barplot(x='total_price', y='pizza_name', data=most_revenue, palette='viridis')\n",
    "plt.title('Top 5 Most Revenue Generating Pizzas')\n",
    "plt.xlabel('Total Revenue ($)')\n",
    "plt.ylabel('Pizza Name')\n",
    "plt.grid(True)\n",
    "plt.show()\n"
   ]
  },
  {
   "cell_type": "code",
   "execution_count": null,
   "id": "390443a9",
   "metadata": {},
   "outputs": [],
   "source": [
    "#Top 5 worst revenue generating pizzas\n",
    "worst_revenue=df.groupby('pizza_name')['total_price'].sum().reset_index()\n",
    "worst_revenue=worst_revenue.sort_values(by='total_price',ascending=True).head(5)\n",
    "worst_revenue\n"
   ]
  },
  {
   "cell_type": "code",
   "execution_count": null,
   "id": "93b1ab69",
   "metadata": {},
   "outputs": [],
   "source": [
    "# Plot Top 5 worst revenue generating pizzas\n",
    "plt.figure(figsize=(10, 6))\n",
    "most_revenue=most_revenue.sort_values(by='total_price',ascending=True).head(5)\n",
    "sns.barplot(x='total_price', y='pizza_name', data=most_revenue, palette='viridis')\n",
    "plt.title('Top 5 Worst Revenue Generating Pizzas')  \n",
    "plt.xlabel('Total Revenue ($)')\n",
    "plt.ylabel('Pizza Name')\n",
    "plt.grid(True)\n",
    "plt.show()"
   ]
  },
  {
   "cell_type": "code",
   "execution_count": null,
   "id": "89ef0933",
   "metadata": {},
   "outputs": [],
   "source": [
    "#top 5 most orders pizza sold\n",
    "most_pizza_sold=df.groupby('pizza_name')['quantity'].sum().reset_index()\n",
    "most_pizza_sold=most_pizza_sold.sort_values(by='quantity',ascending=False).head()\n",
    "most_pizza_sold"
   ]
  },
  {
   "cell_type": "code",
   "execution_count": null,
   "id": "6020c93f",
   "metadata": {},
   "outputs": [],
   "source": [
    "#Plot top 5 most orders pizza sold\n",
    "plt.figure(figsize=(10, 6))\n",
    "most_pizza_sold=most_pizza_sold.sort_values(by='quantity',ascending=False).head(5)\n",
    "sns.barplot(x='quantity', y='pizza_name', data=most_pizza_sold  , palette='viridis')\n",
    "plt.title('Top 5 Most Orders Pizza Sold')\n",
    "plt.xlabel('Total Orders')\n",
    "plt.ylabel('Pizza Name')\n",
    "plt.grid(True)\n",
    "plt.show()"
   ]
  },
  {
   "cell_type": "code",
   "execution_count": null,
   "id": "ae427c28",
   "metadata": {},
   "outputs": [],
   "source": [
    "# top worst orders pizza sold\n",
    "worst_pizza_sold=df.groupby('pizza_name')['quantity'].sum().reset_index().sort_values(by='quantity',ascending=True).head(5)\n",
    "worst_pizza_sold\n"
   ]
  },
  {
   "cell_type": "code",
   "execution_count": null,
   "id": "495276a4",
   "metadata": {},
   "outputs": [],
   "source": [
    "#plot top worst orders pizza sold\n",
    "plt.figure(figsize=(10, 6))\n",
    "worst_pizza_sold=worst_pizza_sold.sort_values(by='quantity',ascending=True).head(5)\n",
    "sns.barplot(x='quantity', y='pizza_name', data=worst_pizza_sold, palette='viridis')\n",
    "plt.title('Top 5 Worst Orders Pizza Sold')\n",
    "plt.xlabel('Total Orders')\n",
    "plt.ylabel('Pizza Name')\n",
    "plt.grid(True)\n",
    "plt.show()\n"
   ]
  },
  {
   "cell_type": "code",
   "execution_count": null,
   "id": "988bc137",
   "metadata": {},
   "outputs": [],
   "source": []
  }
 ],
 "metadata": {
  "kernelspec": {
   "display_name": "Python 3",
   "language": "python",
   "name": "python3"
  },
  "language_info": {
   "codemirror_mode": {
    "name": "ipython",
    "version": 3
   },
   "file_extension": ".py",
   "mimetype": "text/x-python",
   "name": "python",
   "nbconvert_exporter": "python",
   "pygments_lexer": "ipython3",
   "version": "3.13.7"
  }
 },
 "nbformat": 4,
 "nbformat_minor": 5
}
